{
 "cells": [
  {
   "cell_type": "code",
   "execution_count": 59,
   "metadata": {},
   "outputs": [],
   "source": [
    "import re\n",
    "s = '{{ICD9|E927.1}}, {{ICD9|E927.3}}—{{ICD9|E927.9}}, {{ICD9|727.2}}'"
   ]
  },
  {
   "cell_type": "code",
   "execution_count": 60,
   "metadata": {},
   "outputs": [
    {
     "data": {
      "text/plain": [
       "['E927.1', 'E927.3', 'E927.9', '727.2']"
      ]
     },
     "execution_count": 60,
     "metadata": {},
     "output_type": "execute_result"
    }
   ],
   "source": [
    "a = re.findall('\\w?\\d{3}\\.?\\d?',s)\n",
    "a"
   ]
  },
  {
   "cell_type": "code",
   "execution_count": 73,
   "metadata": {},
   "outputs": [],
   "source": [
    "s= '''{{redirect|Nexium|the cult whose name is pronounced similarly|NXIVM}}\n",
    "{{Drugbox\n",
    "| Verifiedfields = changed\n",
    "| Watchedfields = changed\n",
    "| verifiedrevid = 477167063\n",
    "| IUPAC_name = (''S'')-(−)-5-Methoxy-2-[(4-methoxy-3,5-dimethylpyridin-2-yl)methylsulfinyl]-3''H''-benzoimidazole\n",
    "| image = Esomeprazole.svg\n",
    "| width = 245\n",
    "| image2 = Esomeprazole ball-and-stick model.png\n",
    "| width2 = 250\n",
    "\n",
    "<!--Clinical data-->\n",
    "| tradename = Nexium, many others<ref name=brands>[http://www.bddrugs.com/product5.php?idn=5&prev=&prev1=&prev2= Esomeprazole brand names]</ref>\n",
    "| Drugs.com = {{drugs.com|monograph|esomeprazole-magnesium}}\n",
    "| pronounce = {{IPAc-en|ˌ|ɛ|s|oʊ|ˈ|m|ɛ|p|r|ə|ˌ|z|oʊ|l|,_|-|ˈ|m|iː|-|,_|-|ˌ|z|ɒ|l}}{{refn|{{MerriamWebsterDictionary|accessdate=2016-01-21|Esomeprazole}}\n",
    "}}\n",
    "| MedlinePlus = a699054\n",
    "| licence_US = Esomeprazole\n",
    "| pregnancy_AU = B3\n",
    "| pregnancy_US = C\n",
    "| legal_AU = S2\n",
    "| legal_UK = GSL\n",
    "| legal_US = Rx-only\n",
    "| legal_US_comment = OTC\n",
    "| routes_of_administration = by mouth, [[Intravenous therapy|IV]]\n",
    "| class            = [[proton pump inhibitor]]\n",
    "\n",
    "<!--Pharmacokinetic data-->\n",
    "| bioavailability = 50 to 90%\n",
    "| metabolism = [[Liver]] ([[CYP2C19]], [[CYP3A4]])\n",
    "| elimination_half-life = 1–1.5 hours\n",
    "| excretion = 80% [[Kidney]]<br>20% [[Feces|Faecal]]\n",
    "\n",
    "<!--Identifiers-->\n",
    "| CAS_number_Ref = {{cascite|changed|CAS}}\n",
    "| CAS_number =    119141-88-7\n",
    "| ATC_prefix = A02\n",
    "| ATC_suffix = BC05\n",
    "| PubChem = 9579578\n",
    "| DrugBank_Ref = {{drugbankcite|correct|drugbank}}\n",
    " | DrugBank = DB00736\n",
    "| ChemSpiderID_Ref = {{chemspidercite|changed|chemspider}}\n",
    "| ChemSpiderID = 7843323\n",
    "| UNII_Ref = {{fdacite|correct|FDA}}\n",
    "| UNII = N3PA6559FT\n",
    "| KEGG_Ref = {{keggcite|correct|kegg}}\n",
    "| KEGG = D07917\n",
    "| ChEBI_Ref = {{ebicite|correct|EBI}}\n",
    "| ChEBI = 50275\n",
    "| ChEMBL_Ref = {{ebicite|changed|EBI}}\n",
    "| ChEMBL = 1201320\n",
    "\n",
    "<!--Chemical data-->\n",
    " | C=17 | H=19 | N=3 | O=3 | S=1 \n",
    "| molecular_weight = 345.417 g/mol\n",
    "| smiles = COc1ccc2nc([nH]c2c1)S(=O)Cc1ncc(C)c(OC)c1C\n",
    "| StdInChI_Ref = {{stdinchicite|correct|chemspider}}\n",
    "| StdInChI = 1S/C17H19N3O3S/c1-10-8-18-15(11(2)16(10)23-4)9-24(21)17-19-13-6-5-12(22-3)7-14(13)20-17/h5-8H,9H2,1-4H3,(H,19,20)/t24-/m1/s1\n",
    "| StdInChIKey_Ref = {{stdinchicite|correct|chemspider}}\n",
    "| StdInChIKey = SUBDBMMJDZJVOS-XMMPIXPASA-N\n",
    "|drug_name=|alt=|caption=|type=|legal_status=|licence_EU=yes|pregnancy_category=}}\n",
    "<!-- Definition and medical uses -->\n",
    "'''"
   ]
  },
  {
   "cell_type": "code",
   "execution_count": 88,
   "metadata": {},
   "outputs": [],
   "source": [
    "def find_cas(s):\n",
    "    s = re.findall(r'CAS_number\\s*?=\\s?[0-9]*-?[0-9]*-?[0-9]*',s)\n",
    "    if(len(s)>0):   \n",
    "        s = s[0]\n",
    "        equal = s.rfind('7')\n",
    "        print(equal)\n",
    "        #if there is a space after the equal remove it\n",
    "        if(s[equal+1]==' '):\n",
    "            print('is')\n",
    "            s = s[equal+2:]\n",
    "        else: \n",
    "            s = s[equal+1:]\n",
    "    else:\n",
    "        s = 'NOT FOUND'\n",
    "    return s"
   ]
  },
  {
   "cell_type": "code",
   "execution_count": 89,
   "metadata": {},
   "outputs": [
    {
     "name": "stdout",
     "output_type": "stream",
     "text": [
      "-1\n"
     ]
    },
    {
     "data": {
      "text/plain": [
       "'CAS_number = '"
      ]
     },
     "execution_count": 89,
     "metadata": {},
     "output_type": "execute_result"
    }
   ],
   "source": [
    "alex = find_cas(s)\n",
    "alex"
   ]
  },
  {
   "cell_type": "code",
   "execution_count": 99,
   "metadata": {},
   "outputs": [
    {
     "data": {
      "text/plain": [
       "323.6"
      ]
     },
     "execution_count": 99,
     "metadata": {},
     "output_type": "execute_result"
    }
   ],
   "source": [
    "import ast\n",
    "array = '[\\'323.6\\', \\'323.8\\']'\n",
    "x = ast.literal_eval(array)\n",
    "x = [float(n.strip()) for n in x]\n",
    "x[0]"
   ]
  },
  {
   "cell_type": "code",
   "execution_count": null,
   "metadata": {},
   "outputs": [],
   "source": []
  }
 ],
 "metadata": {
  "kernelspec": {
   "display_name": "Python 3",
   "language": "python",
   "name": "python3"
  },
  "language_info": {
   "codemirror_mode": {
    "name": "ipython",
    "version": 3
   },
   "file_extension": ".py",
   "mimetype": "text/x-python",
   "name": "python",
   "nbconvert_exporter": "python",
   "pygments_lexer": "ipython3",
   "version": "3.6.5"
  }
 },
 "nbformat": 4,
 "nbformat_minor": 2
}
