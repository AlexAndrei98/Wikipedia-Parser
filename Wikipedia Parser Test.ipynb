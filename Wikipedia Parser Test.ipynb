{
 "cells": [
  {
   "cell_type": "code",
   "execution_count": 1,
   "metadata": {},
   "outputs": [],
   "source": [
    "import xml.etree.ElementTree as etree\n",
    "import codecs\n",
    "import csv\n",
    "import time\n",
    "import os\n",
    "import re\n",
    "import pandas as pd"
   ]
  },
  {
   "cell_type": "code",
   "execution_count": 2,
   "metadata": {},
   "outputs": [],
   "source": [
    "PATH_WIKI_XML = os.getcwd()\n",
    "FILENAME_WIKI = 'enwiki-latest-pages-articles.xml'\n",
    "FILENAME_ARTICLES = 'articles.csv'\n",
    "FILENAME_REDIRECT = 'articles_redirect.csv'\n",
    "FILENAME_TEMPLATE = 'articles_template.csv'\n",
    "FILENAME_DRUG = 'articles_drugs.csv'\n",
    "FILENAME_DISEASE = 'articles_diseases.csv'\n",
    "ENCODING = \"utf-8\""
   ]
  },
  {
   "cell_type": "code",
   "execution_count": 3,
   "metadata": {},
   "outputs": [],
   "source": [
    "# Nicely formatted time string\n",
    "def hms_string(sec_elapsed):\n",
    "    h = int(sec_elapsed / (60 * 60))\n",
    "    m = int((sec_elapsed % (60 * 60)) / 60)\n",
    "    s = sec_elapsed % 60\n",
    "    return \"{}:{:>02}:{:>05.2f}\".format(h, m, s)\n",
    "def strip_tag_name(t):\n",
    "    t = elem.tag\n",
    "    idx = k = t.rfind(\"}\")\n",
    "    if idx != -1:\n",
    "        t = t[idx + 1:]\n",
    "    return t\n",
    "def get_drugbox(s):\n",
    "    beg = (s.rfind('{{Drugbox'))\n",
    "    end  =(s.rfind('\\n}}'))\n",
    "    if( end == -1):\n",
    "        end = end =(s.rfind('}}\\n'))\n",
    "    if( end == -1):\n",
    "        end = end =(s.rfind('}}\\n<!--'))\n",
    "    if( end == -1):\n",
    "        end = end =(s.rfind('}}\\n=='))\n",
    "    if( end == -1):\n",
    "        end = end =(s.rfind('}}\\n\\d'))\n",
    "    s = s[beg: end+2]\n",
    "    return s\n",
    "def get_med_cond(s):\n",
    "    beg = (s.rfind('{{Infobox medical condition'))\n",
    "    end  =(s.rfind('\\n}}'))\n",
    "    if( end == -1):\n",
    "        end = end =(s.rfind('}}\\n'))\n",
    "    if( end == -1):\n",
    "        end = end =(s.rfind('}}\\n<!--'))\n",
    "    if( end == -1):\n",
    "        end = end =(s.rfind('}}\\n=='))\n",
    "    if( end == -1):\n",
    "        end = end =(s.rfind('}}\\n\\d'))\n",
    "    s = s[beg: end+2]\n",
    "    return s\n",
    "def get_medical(s):\n",
    "    beg = (s.rfind('{{Medical resources'))\n",
    "    end  =(s.rfind('\\n}}'))\n",
    "    s = s[beg: end+3]\n",
    "    return s\n",
    "def find_cas(s):\n",
    "    s = re.findall(r'CAS_number\\s*?=\\s?[0-9]*-?[0-9]*-?[0-9]*',s)\n",
    "    if(len(s)>0):   \n",
    "        s = s[0]\n",
    "        equal = s.rfind('=')\n",
    "        #if there is a space after the equal remove it\n",
    "        if(s[equal+1]==' '):\n",
    "            s = s[equal+2:]\n",
    "        else: \n",
    "            s = s[equal+1:]\n",
    "    else:\n",
    "        s = 'NOT FOUND'\n",
    "    return s\n",
    "def find_icd10(s):\n",
    "    s = s.replace('|','')\n",
    "    s = s.replace('{{ICD10',\"\")\n",
    "    icd10 = re.findall('\\w{1}\\d{2,6}',s)\n",
    "    return icd10\n",
    "\n",
    "def find_medication(s):\n",
    "    s = re.findall(r'medication\\s*?=.*<',s)\n",
    "    if(len(s)== 0 ):\n",
    "        s = []\n",
    "    else:\n",
    "        s = s[0]\n",
    "        s = s[:-1]\n",
    "        s = s[s.find('=')+2:]\n",
    "        s = s.replace('[[','')\n",
    "        s = s.replace(']]','')\n",
    "        s = s.split(',')\n",
    "        s\n",
    "    return s"
   ]
  },
  {
   "cell_type": "code",
   "execution_count": 4,
   "metadata": {},
   "outputs": [],
   "source": [
    "pathWikiXML =FILENAME_WIKI\n",
    "pathArticles = FILENAME_ARTICLES\n",
    "pathArticlesRedirect =  FILENAME_REDIRECT\n",
    "pathTemplateRedirect =  FILENAME_TEMPLATE\n",
    "pathDrugsArticles =FILENAME_DRUG\n",
    "pathDiseaseArticles = FILENAME_DISEASE"
   ]
  },
  {
   "cell_type": "code",
   "execution_count": 52,
   "metadata": {},
   "outputs": [
    {
     "ename": "KeyboardInterrupt",
     "evalue": "",
     "output_type": "error",
     "traceback": [
      "\u001b[1;31m---------------------------------------------------------------------------\u001b[0m",
      "\u001b[1;31mKeyboardInterrupt\u001b[0m                         Traceback (most recent call last)",
      "\u001b[1;32m~\\AppData\\Local\\Continuum\\anaconda3\\lib\\xml\\etree\\ElementTree.py\u001b[0m in \u001b[0;36miterator\u001b[1;34m()\u001b[0m\n\u001b[0;32m   1225\u001b[0m                     \u001b[1;32mbreak\u001b[0m\u001b[1;33m\u001b[0m\u001b[0m\n\u001b[1;32m-> 1226\u001b[1;33m                 \u001b[0mpullparser\u001b[0m\u001b[1;33m.\u001b[0m\u001b[0mfeed\u001b[0m\u001b[1;33m(\u001b[0m\u001b[0mdata\u001b[0m\u001b[1;33m)\u001b[0m\u001b[1;33m\u001b[0m\u001b[0m\n\u001b[0m\u001b[0;32m   1227\u001b[0m             \u001b[0mroot\u001b[0m \u001b[1;33m=\u001b[0m \u001b[0mpullparser\u001b[0m\u001b[1;33m.\u001b[0m\u001b[0m_close_and_return_root\u001b[0m\u001b[1;33m(\u001b[0m\u001b[1;33m)\u001b[0m\u001b[1;33m\u001b[0m\u001b[0m\n",
      "\u001b[1;32m~\\AppData\\Local\\Continuum\\anaconda3\\lib\\xml\\etree\\ElementTree.py\u001b[0m in \u001b[0;36mfeed\u001b[1;34m(self, data)\u001b[0m\n\u001b[0;32m   1267\u001b[0m             \u001b[1;32mtry\u001b[0m\u001b[1;33m:\u001b[0m\u001b[1;33m\u001b[0m\u001b[0m\n\u001b[1;32m-> 1268\u001b[1;33m                 \u001b[0mself\u001b[0m\u001b[1;33m.\u001b[0m\u001b[0m_parser\u001b[0m\u001b[1;33m.\u001b[0m\u001b[0mfeed\u001b[0m\u001b[1;33m(\u001b[0m\u001b[0mdata\u001b[0m\u001b[1;33m)\u001b[0m\u001b[1;33m\u001b[0m\u001b[0m\n\u001b[0m\u001b[0;32m   1269\u001b[0m             \u001b[1;32mexcept\u001b[0m \u001b[0mSyntaxError\u001b[0m \u001b[1;32mas\u001b[0m \u001b[0mexc\u001b[0m\u001b[1;33m:\u001b[0m\u001b[1;33m\u001b[0m\u001b[0m\n",
      "\u001b[1;31mKeyboardInterrupt\u001b[0m: ",
      "\nDuring handling of the above exception, another exception occurred:\n",
      "\u001b[1;31mKeyboardInterrupt\u001b[0m                         Traceback (most recent call last)",
      "\u001b[1;32m<ipython-input-52-d8d2b023a090>\u001b[0m in \u001b[0;36m<module>\u001b[1;34m()\u001b[0m\n\u001b[0;32m     12\u001b[0m \u001b[0mdiseases_meds\u001b[0m \u001b[1;33m=\u001b[0m \u001b[1;33m[\u001b[0m\u001b[1;33m]\u001b[0m\u001b[1;33m\u001b[0m\u001b[0m\n\u001b[0;32m     13\u001b[0m \u001b[0mstart_time\u001b[0m \u001b[1;33m=\u001b[0m \u001b[0mtime\u001b[0m\u001b[1;33m.\u001b[0m\u001b[0mtime\u001b[0m\u001b[1;33m(\u001b[0m\u001b[1;33m)\u001b[0m\u001b[1;33m\u001b[0m\u001b[0m\n\u001b[1;32m---> 14\u001b[1;33m \u001b[1;32mfor\u001b[0m \u001b[0mevent\u001b[0m\u001b[1;33m,\u001b[0m \u001b[0melem\u001b[0m \u001b[1;32min\u001b[0m \u001b[0metree\u001b[0m\u001b[1;33m.\u001b[0m\u001b[0miterparse\u001b[0m\u001b[1;33m(\u001b[0m\u001b[0mpathWikiXML\u001b[0m\u001b[1;33m,\u001b[0m \u001b[0mevents\u001b[0m\u001b[1;33m=\u001b[0m\u001b[1;33m(\u001b[0m\u001b[1;34m'start'\u001b[0m\u001b[1;33m,\u001b[0m \u001b[1;34m'end'\u001b[0m\u001b[1;33m)\u001b[0m\u001b[1;33m)\u001b[0m\u001b[1;33m:\u001b[0m\u001b[1;33m\u001b[0m\u001b[0m\n\u001b[0m\u001b[0;32m     15\u001b[0m     \u001b[0mtname\u001b[0m \u001b[1;33m=\u001b[0m \u001b[0mstrip_tag_name\u001b[0m\u001b[1;33m(\u001b[0m\u001b[0melem\u001b[0m\u001b[1;33m.\u001b[0m\u001b[0mtag\u001b[0m\u001b[1;33m)\u001b[0m\u001b[1;33m\u001b[0m\u001b[0m\n\u001b[0;32m     16\u001b[0m \u001b[1;33m\u001b[0m\u001b[0m\n",
      "\u001b[1;32m~\\AppData\\Local\\Continuum\\anaconda3\\lib\\xml\\etree\\ElementTree.py\u001b[0m in \u001b[0;36miterator\u001b[1;34m()\u001b[0m\n\u001b[0;32m   1230\u001b[0m         \u001b[1;32mfinally\u001b[0m\u001b[1;33m:\u001b[0m\u001b[1;33m\u001b[0m\u001b[0m\n\u001b[0;32m   1231\u001b[0m             \u001b[1;32mif\u001b[0m \u001b[0mclose_source\u001b[0m\u001b[1;33m:\u001b[0m\u001b[1;33m\u001b[0m\u001b[0m\n\u001b[1;32m-> 1232\u001b[1;33m                 \u001b[0msource\u001b[0m\u001b[1;33m.\u001b[0m\u001b[0mclose\u001b[0m\u001b[1;33m(\u001b[0m\u001b[1;33m)\u001b[0m\u001b[1;33m\u001b[0m\u001b[0m\n\u001b[0m\u001b[0;32m   1233\u001b[0m \u001b[1;33m\u001b[0m\u001b[0m\n\u001b[0;32m   1234\u001b[0m     \u001b[1;32mclass\u001b[0m \u001b[0mIterParseIterator\u001b[0m\u001b[1;33m(\u001b[0m\u001b[0mcollections\u001b[0m\u001b[1;33m.\u001b[0m\u001b[0mIterator\u001b[0m\u001b[1;33m)\u001b[0m\u001b[1;33m:\u001b[0m\u001b[1;33m\u001b[0m\u001b[0m\n",
      "\u001b[1;31mKeyboardInterrupt\u001b[0m: "
     ]
    }
   ],
   "source": [
    "totalCount = 0\n",
    "title = None\n",
    "icd9=[]\n",
    "icd10=[]\n",
    "drugs_name = []\n",
    "drugs_id = []\n",
    "#------------\n",
    "diseases_name = []\n",
    "diseases_id = []\n",
    "diseases_icd9 = []\n",
    "diseases_icd10 = []\n",
    "diseases_meds = []\n",
    "start_time = time.time()\n",
    "for event, elem in etree.iterparse(pathWikiXML, events=('start', 'end')):\n",
    "    tname = strip_tag_name(elem.tag)\n",
    "\n",
    "    if event == 'start':\n",
    "        if tname == 'page':\n",
    "            title = ''\n",
    "            id = -1\n",
    "            redirect = ''\n",
    "            inrevision = False\n",
    "            ns = 0\n",
    "        elif tname == 'revision':\n",
    "            # Do not pick up on revision id's\n",
    "            inrevision = True\n",
    "    else:\n",
    "        if tname == 'title':\n",
    "            title = elem.text\n",
    "        elif tname == 'id' and not inrevision:\n",
    "            id = int(elem.text)\n",
    "        elif tname == 'redirect':\n",
    "            redirect = elem.attrib['title']\n",
    "        elif tname == 'ns':\n",
    "            ns = int(elem.text)\n",
    "        elif tname == 'page':\n",
    "            totalCount += 1\n",
    "        elif(tname =='text'):\n",
    "            cont = elem.text\n",
    "            #check if cont exists\n",
    "            if(type(cont)==type('alex')):\n",
    "                #check if the drugbox template exists \n",
    "                if (cont.find('Drugbox')>-1 ):\n",
    "                    #get the drugbox template\n",
    "                    result = get_drugbox(cont)\n",
    "                    #get the CAS number\n",
    "                    cas = find_cas(result)\n",
    "                    #drugsWriter.writerow([id, title, cas])\n",
    "                    drugs_name.append(title)\n",
    "                    drugs_id.append(id)\n",
    "                    #print('done Drug')\n",
    "                if (cont.find('Infobox medical condition')>-1 ):\n",
    "                    #get the drugbox template\n",
    "                    result = get_med_cond(cont)\n",
    "                    #get the CAS number\n",
    "                    meds = find_medication(result)\n",
    "                    #drugsWriter.writerow([id, title, meds])\n",
    "                    #print('done condition')\n",
    "                    if (cont.find('Medical resources')>-1):\n",
    "                        #get the drugbox template\n",
    "                        result = get_medical(cont)\n",
    "                        #get the CAS number\n",
    "                        tempICD9 = re.findall('{{ICD9.*',result)\n",
    "                        tempICD10 = re.findall('{{ICD10.*',result)\n",
    "                        if len(tempICD9)>0:\n",
    "                            icd9 = re.findall('\\w?\\d{3}\\.?\\d?',tempICD9[0])\n",
    "                        if len(tempICD10)>0:\n",
    "                            icd10 = find_icd10(tempICD10[0])\n",
    "                    diseases_name.append(title)\n",
    "                    diseases_id.append(id )\n",
    "                    diseases_meds.append(meds)\n",
    "                    diseases_icd9.append(icd9)\n",
    "                    diseases_icd10.append(icd10)\n",
    "                    #diseaseWriter.writerow([id, title, icd9, icd10])\n",
    "\n",
    "\n",
    "elem.clear()\n",
    "elapsed_time = time.time() - start_time\n",
    "print(\"Elapsed time: {}\".format(hms_string(elapsed_time)))"
   ]
  },
  {
   "cell_type": "code",
   "execution_count": 53,
   "metadata": {},
   "outputs": [
    {
     "data": {
      "text/html": [
       "<div>\n",
       "<style scoped>\n",
       "    .dataframe tbody tr th:only-of-type {\n",
       "        vertical-align: middle;\n",
       "    }\n",
       "\n",
       "    .dataframe tbody tr th {\n",
       "        vertical-align: top;\n",
       "    }\n",
       "\n",
       "    .dataframe thead th {\n",
       "        text-align: right;\n",
       "    }\n",
       "</style>\n",
       "<table border=\"1\" class=\"dataframe\">\n",
       "  <thead>\n",
       "    <tr style=\"text-align: right;\">\n",
       "      <th></th>\n",
       "      <th>name</th>\n",
       "      <th>id</th>\n",
       "    </tr>\n",
       "  </thead>\n",
       "  <tbody>\n",
       "    <tr>\n",
       "      <th>0</th>\n",
       "      <td>Ampicillin</td>\n",
       "      <td>1912</td>\n",
       "    </tr>\n",
       "    <tr>\n",
       "      <th>1</th>\n",
       "      <td>BCG vaccine</td>\n",
       "      <td>4191</td>\n",
       "    </tr>\n",
       "    <tr>\n",
       "      <th>2</th>\n",
       "      <td>Chloramphenicol</td>\n",
       "      <td>6346</td>\n",
       "    </tr>\n",
       "    <tr>\n",
       "      <th>3</th>\n",
       "      <td>MDMA</td>\n",
       "      <td>10024</td>\n",
       "    </tr>\n",
       "    <tr>\n",
       "      <th>4</th>\n",
       "      <td>Flunitrazepam</td>\n",
       "      <td>11725</td>\n",
       "    </tr>\n",
       "  </tbody>\n",
       "</table>\n",
       "</div>"
      ],
      "text/plain": [
       "              name     id\n",
       "0       Ampicillin   1912\n",
       "1      BCG vaccine   4191\n",
       "2  Chloramphenicol   6346\n",
       "3             MDMA  10024\n",
       "4    Flunitrazepam  11725"
      ]
     },
     "execution_count": 53,
     "metadata": {},
     "output_type": "execute_result"
    }
   ],
   "source": [
    "drugs_df = pd.DataFrame({\"name\": drugs_name, \"id\": drugs_id})\n",
    "drugs_df.head(5)"
   ]
  },
  {
   "cell_type": "code",
   "execution_count": 54,
   "metadata": {},
   "outputs": [],
   "source": [
    "diseases_df = pd.DataFrame({\"id\":diseases_id , \"name\": diseases_name , \"icd9\": diseases_icd9 , \"icd10\": diseases_icd10, \"medications\": diseases_meds })\n"
   ]
  },
  {
   "cell_type": "code",
   "execution_count": 55,
   "metadata": {},
   "outputs": [],
   "source": [
    "copy = diseases_df"
   ]
  },
  {
   "cell_type": "code",
   "execution_count": 58,
   "metadata": {},
   "outputs": [],
   "source": [
    "alex = copy[copy.medications.map(len) > 0]"
   ]
  },
  {
   "cell_type": "code",
   "execution_count": 81,
   "metadata": {},
   "outputs": [],
   "source": [
    "meds = alex.medications.values\n",
    "new_meds = [np.pad(el,8,mode='constant') for el in meds]"
   ]
  },
  {
   "cell_type": "code",
   "execution_count": 70,
   "metadata": {},
   "outputs": [
    {
     "data": {
      "text/plain": [
       "8"
      ]
     },
     "execution_count": 70,
     "metadata": {},
     "output_type": "execute_result"
    }
   ],
   "source": [
    "max([len(x) for x in copy[copy.medications.map(len) > 0].medications.values])"
   ]
  },
  {
   "cell_type": "code",
   "execution_count": 84,
   "metadata": {},
   "outputs": [
    {
     "name": "stdout",
     "output_type": "stream",
     "text": [
      "18\n"
     ]
    }
   ],
   "source": [
    "print(len(new_meds[0]))"
   ]
  },
  {
   "cell_type": "code",
   "execution_count": null,
   "metadata": {},
   "outputs": [],
   "source": []
  }
 ],
 "metadata": {
  "kernelspec": {
   "display_name": "Python 3",
   "language": "python",
   "name": "python3"
  },
  "language_info": {
   "codemirror_mode": {
    "name": "ipython",
    "version": 3
   },
   "file_extension": ".py",
   "mimetype": "text/x-python",
   "name": "python",
   "nbconvert_exporter": "python",
   "pygments_lexer": "ipython3",
   "version": "3.6.5"
  }
 },
 "nbformat": 4,
 "nbformat_minor": 2
}
